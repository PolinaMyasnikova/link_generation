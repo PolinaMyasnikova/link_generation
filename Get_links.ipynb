{
 "cells": [
  {
   "cell_type": "code",
   "execution_count": 5,
   "id": "e7623dad",
   "metadata": {},
   "outputs": [],
   "source": [
    "import requests\n",
    "from bs4 import BeautifulSoup\n",
    "import time"
   ]
  },
  {
   "cell_type": "code",
   "execution_count": 6,
   "id": "617d5f40",
   "metadata": {},
   "outputs": [],
   "source": [
    "def get_links(url):\n",
    "    page = requests.get(url)\n",
    "    soup = BeautifulSoup(page.text, 'html.parser')\n",
    "#    print(soup)\n",
    "    soup2 = soup.find_all('div', class_='egMi0 kCrYT')\n",
    "    links = []\n",
    "    for el in soup2:\n",
    "        a = el.find('a')\n",
    "        link = a.attrs[\"href\"][7:]\n",
    "        end_link = link.index('&sa=')\n",
    "        links.append(link[:link.index('&sa=')])\n",
    "    return links\n",
    "\n"
   ]
  },
  {
   "cell_type": "code",
   "execution_count": 9,
   "id": "b859c352",
   "metadata": {},
   "outputs": [
    {
     "name": "stdout",
     "output_type": "stream",
     "text": [
      "len(new_urls) 0\n",
      "len(new_urls) 0\n",
      "len(new_urls) 0\n",
      "len(new_urls) 0\n",
      "len(new_urls) 0\n",
      "len(new_urls) 0\n",
      "len(new_urls) 0\n",
      "len(new_urls) 0\n",
      "len(new_urls) 0\n",
      "len(new_urls) 0\n",
      "len(new_urls) 0\n",
      "len(new_urls) 0\n",
      "len(new_urls) 0\n",
      "len(new_urls) 0\n",
      "len(new_urls) 0\n",
      "len(new_urls) 0\n",
      "len(new_urls) 0\n",
      "163.com\n",
      "len(new_urls) 0\n",
      "len(new_urls) 0\n",
      "len(new_urls) 0\n",
      "len(new_urls) 0\n"
     ]
    }
   ],
   "source": [
    "domains = ['baidu.com', 'qq.com', 'facebook.com', 'taobao.com', 'amazon.com', 'yahoo.com', \n",
    "          'zhihu.com', 'wikipedia.org', 'bilibili.com', 'sohu.com', 'sina.com.cn', 'zoom.us',\n",
    "          'live.com', 'instagram.com', 'weibo.com', 'jd.com', '163.com', 'netflix.com', '360.cn', 'microsoft.com']\n",
    "# 'baidu.com', 'qq.com', 'facebook.com', 'taobao.com', 'amazon.com', 'yahoo.com', \n",
    "    #      'Zhihu.com', 'wikipedia.org', 'tmall.com', 'bilibili.com', 'sohu.com', 'sina.com.cn', 'zoom.us',\n",
    "    #      'live.com', 'instagram.com', 'weibo.com', 'jd.com', '163.com', 'netflix.com', '360.cn', 'microsoft.com',\n",
    "    #      'reddit.com', 'chaturbate.com', 'office.com', 'canva.com', '1688.com', 'csdn.net', 'ing.com'\n",
    "    #      'google.com.hk', 'alipay.com', 'myshopify.com', 'microsoftonline.com', 'naver.com', 'linkedin.com'\n",
    "    #      'sogou.com', 'yahoo.co.jp', 'so.com', 'twitch.tv', 'force.com', 'vk.com'\n",
    "    # 'sharepoint.com'\n",
    "    #      'douban.com', 'bongacams.com', 'amazon.in', 'aparat.com', 'hao123.com'\n",
    "urls = []\n",
    "hour = 3600\n",
    "for domain in domains:\n",
    "    new_urls = []\n",
    "    while len(new_urls) < 300:\n",
    "        for i in range(0, 300, 100):\n",
    "            new_urls += get_links(f'https://www.google.com/search?q=site:{domain}&num=100&start={i}')\n",
    "        print('len(new_urls)', len(urls))\n",
    "        if len(new_urls) >= 300:\n",
    "            with open(\"file.txt\", \"a\") as file:\n",
    "                for  line in new_urls:\n",
    "                    file.write(line + '\\n')\n",
    "        else:\n",
    "            print(domain)\n",
    "            new_urls = []\n",
    "            time.sleep(3 * hour)"
   ]
  },
  {
   "cell_type": "code",
   "execution_count": null,
   "id": "50fb71ac",
   "metadata": {},
   "outputs": [],
   "source": []
  },
  {
   "cell_type": "code",
   "execution_count": null,
   "id": "315ca5d0",
   "metadata": {},
   "outputs": [],
   "source": []
  },
  {
   "cell_type": "code",
   "execution_count": 3,
   "id": "39a29b5b",
   "metadata": {},
   "outputs": [
    {
     "name": "stdout",
     "output_type": "stream",
     "text": [
      "300\n",
      "600\n",
      "900\n",
      "1200\n",
      "1500\n"
     ]
    }
   ],
   "source": [
    "domains = ['baidu.com', 'qq.com', 'facebook.com', 'taobao.com', 'amazon.com', 'yahoo.com', \n",
    "          'zhihu.com', 'wikipedia.org', 'tmall.com', 'bilibili.com', 'sohu.com', 'sina.com.cn', 'zoom.us']\n",
    "# 'baidu.com', 'qq.com', 'facebook.com', 'taobao.com', 'amazon.com', 'yahoo.com', \n",
    "    #      'Zhihu.com', 'wikipedia.org', 'tmall.com', 'bilibili.com', 'sohu.com', 'sina.com.cn', 'zoom.us',\n",
    "    #      'live.com', 'instagram.com', 'weibo.com', 'jd.com', '163.com', 'netflix.com', '360.cn', 'microsoft.com',\n",
    "    #      'reddit.com', 'chaturbate.com', 'office.com', 'canva.com', '1688.com', 'csdn.net', 'ing.com'\n",
    "    #      'google.com.hk', 'alipay.com', 'myshopify.com', 'microsoftonline.com', 'naver.com', 'linkedin.com'\n",
    "    #      'sogou.com', 'yahoo.co.jp', 'so.com', 'twitch.tv', 'force.com', 'vk.com'\n",
    "    # 'sharepoint.com'\n",
    "    #      'douban.com', 'bongacams.com', 'amazon.in', 'aparat.com', 'hao123.com'\n",
    "urls = []\n",
    "hours = 3600\n",
    "for domain in domains:\n",
    "    for i in range(0, 300, 100):\n",
    "        urls += get_links(f'https://www.google.com/search?q=site:{domain}&num=100&start={i}')\n",
    "    l = 300\n",
    "    print(len(urls))\n",
    "    if len(urls) >= 300:\n",
    "        with open(\"file.txt\", \"a\") as file:\n",
    "            for  line in urls:\n",
    "                file.write(line + '\\n')\n",
    "        l += 300\n",
    "    else:\n",
    "        print(domain)\n",
    "        break"
   ]
  },
  {
   "cell_type": "code",
   "execution_count": 15,
   "id": "b5065196",
   "metadata": {},
   "outputs": [
    {
     "data": {
      "text/plain": [
       "200"
      ]
     },
     "execution_count": 15,
     "metadata": {},
     "output_type": "execute_result"
    }
   ],
   "source": [
    "len(urls)"
   ]
  },
  {
   "cell_type": "code",
   "execution_count": null,
   "id": "c629b55e",
   "metadata": {},
   "outputs": [],
   "source": []
  },
  {
   "cell_type": "code",
   "execution_count": null,
   "id": "0ad713cc",
   "metadata": {},
   "outputs": [],
   "source": []
  },
  {
   "cell_type": "code",
   "execution_count": null,
   "id": "b63f35ee",
   "metadata": {},
   "outputs": [],
   "source": []
  },
  {
   "cell_type": "code",
   "execution_count": 27,
   "id": "1c5baf7a",
   "metadata": {},
   "outputs": [],
   "source": [
    "with open(\"links.txt\", \"a\") as file:\n",
    "    for  line in urls:\n",
    "        file.write(line + '\\n')"
   ]
  },
  {
   "cell_type": "code",
   "execution_count": 24,
   "id": "c02c5313",
   "metadata": {},
   "outputs": [],
   "source": [
    "with open(\"file.txt\", \"w\") as file:\n",
    "    for  line in urls:\n",
    "        file.write(line + '\\n')"
   ]
  },
  {
   "cell_type": "code",
   "execution_count": null,
   "id": "7a9f8f25",
   "metadata": {},
   "outputs": [],
   "source": []
  },
  {
   "cell_type": "code",
   "execution_count": null,
   "id": "ad1f88db",
   "metadata": {},
   "outputs": [],
   "source": []
  },
  {
   "cell_type": "code",
   "execution_count": null,
   "id": "1e44dbb7",
   "metadata": {},
   "outputs": [],
   "source": []
  },
  {
   "cell_type": "code",
   "execution_count": 22,
   "id": "b799d733",
   "metadata": {},
   "outputs": [],
   "source": [
    "url = 'https://www.google.com/search?q=site:youtube.com&num=100&start=1'"
   ]
  },
  {
   "cell_type": "code",
   "execution_count": 23,
   "id": "5f717a7f",
   "metadata": {},
   "outputs": [],
   "source": [
    "page = requests.get(url)"
   ]
  },
  {
   "cell_type": "code",
   "execution_count": 25,
   "id": "5ea0aa70",
   "metadata": {},
   "outputs": [
    {
     "data": {
      "text/plain": [
       "<!DOCTYPE html PUBLIC \"-//W3C//DTD HTML 4.01 Transitional//EN\">\n",
       "\n",
       "<html>\n",
       "<head><meta content=\"text/html; charset=utf-8\" http-equiv=\"content-type\"/><meta content=\"initial-scale=1\" name=\"viewport\"/><title>https://www.google.com/search?q=site:youtube.com&amp;num=100&amp;start=1</title></head>\n",
       "<body onload=\"e=document.getElementById('captcha');if(e){e.focus();} if(solveSimpleChallenge) {solveSimpleChallenge(,);}\" style=\"font-family: arial, sans-serif; background-color: #fff; color: #000; padding:20px; font-size:18px;\">\n",
       "<div style=\"max-width:400px;\">\n",
       "<hr noshade=\"\" size=\"1\" style=\"color:#ccc; background-color:#ccc;\"/><br/>\n",
       "<form action=\"index\" id=\"captcha-form\" method=\"post\">\n",
       "<noscript>\n",
       "<div style=\"font-size:13px;\">\n",
       "  In order to continue, please enable javascript on your web browser.\n",
       "</div>\n",
       "</noscript>\n",
       "<script async=\"\" defer=\"\" src=\"https://www.google.com/recaptcha/api.js\"></script>\n",
       "<script>var submitCallback = function(response) {document.getElementById('captcha-form').submit();};</script>\n",
       "<div class=\"g-recaptcha\" data-callback=\"submitCallback\" data-s=\"lfZlqi2uI25TPPNw-oTDplddxlDKqvdUuGZtstyiEMSG4yEfbtCtfvZLrVSQfhvjvMlBzi6kYt3jXh7kQkGbw0ytw4zRpW7d5j1PpS4RlJ0wnMZjQiYTNlXU6X7a-JFwUMCPvuhCpMxGb6QVsnrRCRectNDtcyh0rySjzRM_YcwG6lH07A6LmEKUnm2g5N34cqj5JpfEPEOM2koqXwm9Tv3w7thX-JwZGpjoBlI\" data-sitekey=\"6LfwuyUTAAAAAOAmoS0fdqijC2PbbdH4kjq62Y1b\" id=\"recaptcha\"></div>\n",
       "<input name=\"q\" type=\"hidden\" value=\"EgRejI2jGNK305AGIhCvhulLqP3DQET1dvHagPlsMgFy\"/><input name=\"continue\" type=\"hidden\" value=\"https://www.google.com/search?q=site:youtube.com&amp;num=100&amp;start=1\"/>\n",
       "</form>\n",
       "<hr noshade=\"\" size=\"1\" style=\"color:#ccc; background-color:#ccc;\"/>\n",
       "<div style=\"font-size:13px;\">\n",
       "<b>About this page</b><br/><br/>\n",
       "\n",
       "Our systems have detected unusual traffic from your computer network.  This page checks to see if it's really you sending the requests, and not a robot.  <a href=\"#\" onclick=\"document.getElementById('infoDiv').style.display='block';\">Why did this happen?</a><br/><br/>\n",
       "<div id=\"infoDiv\" style=\"display:none; background-color:#eee; padding:10px; margin:0 0 15px 0; line-height:1.4em;\">\n",
       "This page appears when Google automatically detects requests coming from your computer network which appear to be in violation of the <a href=\"//www.google.com/policies/terms/\">Terms of Service</a>. The block will expire shortly after those requests stop.  In the meantime, solving the above CAPTCHA will let you continue to use our services.<br/><br/>This traffic may have been sent by malicious software, a browser plug-in, or a script that sends automated requests.  If you share your network connection, ask your administrator for help — a different computer using the same IP address may be responsible.  <a href=\"//support.google.com/websearch/answer/86640\">Learn more</a><br/><br/>Sometimes you may be asked to solve the CAPTCHA if you are using advanced terms that robots are known to use, or sending requests very quickly.\n",
       "</div>\n",
       "\n",
       "IP address: 94.140.141.163<br/>Time: 2022-02-22T12:49:22Z<br/>URL: https://www.google.com/search?q=site:youtube.com&amp;num=100&amp;start=1<br/>\n",
       "</div>\n",
       "</div>\n",
       "</body>\n",
       "</html>"
      ]
     },
     "execution_count": 25,
     "metadata": {},
     "output_type": "execute_result"
    }
   ],
   "source": [
    "soup = BeautifulSoup(page.text, 'html.parser')\n",
    "soup"
   ]
  },
  {
   "cell_type": "code",
   "execution_count": 19,
   "id": "a974d683",
   "metadata": {},
   "outputs": [
    {
     "data": {
      "text/plain": [
       "[]"
      ]
     },
     "execution_count": 19,
     "metadata": {},
     "output_type": "execute_result"
    }
   ],
   "source": [
    "soup2 = soup.find_all('div', class_='egMi0 kCrYT')\n",
    "soup2"
   ]
  },
  {
   "cell_type": "code",
   "execution_count": 20,
   "id": "ffff9176",
   "metadata": {},
   "outputs": [],
   "source": [
    "links = []\n",
    "for el in soup2:\n",
    "    a = el.find('a')\n",
    "    links.append(a.attrs[\"href\"][7:])\n",
    "    "
   ]
  },
  {
   "cell_type": "code",
   "execution_count": 21,
   "id": "a47b1a9e",
   "metadata": {},
   "outputs": [
    {
     "data": {
      "text/plain": [
       "[]"
      ]
     },
     "execution_count": 21,
     "metadata": {},
     "output_type": "execute_result"
    }
   ],
   "source": [
    "links"
   ]
  },
  {
   "cell_type": "code",
   "execution_count": null,
   "id": "452eef47",
   "metadata": {},
   "outputs": [],
   "source": []
  }
 ],
 "metadata": {
  "kernelspec": {
   "display_name": "Python 3 (ipykernel)",
   "language": "python",
   "name": "python3"
  },
  "language_info": {
   "codemirror_mode": {
    "name": "ipython",
    "version": 3
   },
   "file_extension": ".py",
   "mimetype": "text/x-python",
   "name": "python",
   "nbconvert_exporter": "python",
   "pygments_lexer": "ipython3",
   "version": "3.9.7"
  }
 },
 "nbformat": 4,
 "nbformat_minor": 5
}
